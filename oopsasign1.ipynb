{
 "cells": [
  {
   "cell_type": "code",
   "execution_count": 1,
   "id": "e642d673-1e40-408f-9652-57be942a2dcb",
   "metadata": {},
   "outputs": [
    {
     "name": "stdout",
     "output_type": "stream",
     "text": [
      "Name: Alice, Age: 30\n",
      "Name: Bob, Age: 25\n"
     ]
    }
   ],
   "source": [
    "\n",
    "class Person:\n",
    "   \n",
    "    def __init__(self, name, age):\n",
    "        self.name = name\n",
    "        self.age = age\n",
    "\n",
    "    # Method to display information about the person\n",
    "    def display_info(self):\n",
    "        print(f\"Name: {self.name}, Age: {self.age}\")\n",
    "\n",
    "\n",
    "person1 = Person(\"Alice\", 30)\n",
    "person2 = Person(\"Bob\", 25)\n",
    "\n",
    "\n",
    "person1.display_info() \n",
    "person2.display_info()  \n"
   ]
  },
  {
   "cell_type": "code",
   "execution_count": 2,
   "id": "c061aefc-c902-4209-afe0-d67d53f47876",
   "metadata": {},
   "outputs": [
    {
     "name": "stdout",
     "output_type": "stream",
     "text": [
      "Woof!\n",
      "Meow!\n"
     ]
    }
   ],
   "source": [
    "class Animal:\n",
    "    def speak(self):\n",
    "        pass\n",
    "\n",
    "class Dog(Animal):\n",
    "    def speak(self):\n",
    "        return \"Woof!\"\n",
    "\n",
    "class Cat(Animal):\n",
    "    def speak(self):\n",
    "        return \"Meow!\"\n",
    "\n",
    "def animal_sound(animal):\n",
    "    print(animal.speak())\n",
    "\n",
    "my_dog = Dog()\n",
    "my_cat = Cat()\n",
    "\n",
    "animal_sound(my_dog)  # Output: Woof!\n",
    "animal_sound(my_cat)"
   ]
  },
  {
   "cell_type": "code",
   "execution_count": 3,
   "id": "9e8bd2c5-d2d4-496f-871d-b1f192da74af",
   "metadata": {},
   "outputs": [
    {
     "name": "stdout",
     "output_type": "stream",
     "text": [
      "Alice has enrolled in the Mathematics course.\n",
      "Alice has enrolled in the History course.\n",
      "Bob has enrolled in the Computer Science course.\n",
      "\n",
      "Student Information:\n",
      "Student Name: Alice\n",
      "Age: 20\n",
      "Student ID: S12345\n",
      "Courses Enrolled:\n",
      "Mathematics\n",
      "History\n",
      "\n",
      "Student Information:\n",
      "Student Name: Bob\n",
      "Age: 22\n",
      "Student ID: S67890\n",
      "Courses Enrolled:\n",
      "Computer Science\n"
     ]
    }
   ],
   "source": [
    "class Student:\n",
    "    def __init__(self, name, age, student_id):\n",
    "        # Initialize attributes\n",
    "        self.name = name\n",
    "        self.age = age\n",
    "        self.student_id = student_id\n",
    "        self.courses = []  # Initialize an empty list to store the student's courses\n",
    "\n",
    "    def enroll(self, course_name):\n",
    "        # Method to enroll in a course\n",
    "        self.courses.append(course_name)\n",
    "        print(f\"{self.name} has enrolled in the {course_name} course.\")\n",
    "\n",
    "    def display_info(self):\n",
    "        # Method to display student information\n",
    "        print(f\"Student Name: {self.name}\")\n",
    "        print(f\"Age: {self.age}\")\n",
    "        print(f\"Student ID: {self.student_id}\")\n",
    "        print(\"Courses Enrolled:\")\n",
    "        for course in self.courses:\n",
    "            print(course)\n",
    "\n",
    "# Creating instances of the Student class\n",
    "student1 = Student(\"Alice\", 20, \"S12345\")\n",
    "student2 = Student(\"Bob\", 22, \"S67890\")\n",
    "\n",
    "# Enrolling students in courses\n",
    "student1.enroll(\"Mathematics\")\n",
    "student1.enroll(\"History\")\n",
    "student2.enroll(\"Computer Science\")\n",
    "\n",
    "# Displaying student information\n",
    "print(\"\\nStudent Information:\")\n",
    "student1.display_info()\n",
    "print(\"\\nStudent Information:\")\n",
    "student2.display_info()\n"
   ]
  },
  {
   "cell_type": "markdown",
   "id": "4f1bc4ab-a9cb-4649-804c-661ac1ebb963",
   "metadata": {},
   "source": [
    "#Single Inheritance:\n",
    "Single inheritance involves one base class and one derived class.\n",
    "In this example, Bird is the base class, and Parrot is the derived class.\n",
    "Parrot inherits the attributes and methods of Bird.\n",
    "Multiple Inheritance:\n",
    "Multiple inheritance involves a derived class inheriting from more than one base class.\n",
    "In this example, ElectricDevice and Battery are base classes, and ElectricCar is the derived class.\n",
    "ElectricCar inherits attributes and methods from both ElectricDevice and Battery."
   ]
  }
 ],
 "metadata": {
  "kernelspec": {
   "display_name": "Python 3 (ipykernel)",
   "language": "python",
   "name": "python3"
  },
  "language_info": {
   "codemirror_mode": {
    "name": "ipython",
    "version": 3
   },
   "file_extension": ".py",
   "mimetype": "text/x-python",
   "name": "python",
   "nbconvert_exporter": "python",
   "pygments_lexer": "ipython3",
   "version": "3.10.8"
  }
 },
 "nbformat": 4,
 "nbformat_minor": 5
}
