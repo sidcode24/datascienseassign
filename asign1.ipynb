{
 "cells": [
  {
   "cell_type": "code",
   "execution_count": 3,
   "id": "ce822922-1be0-44df-8a02-a2709a9d66ab",
   "metadata": {},
   "outputs": [],
   "source": [
    "#Q1\n",
    "l = [1,2]\n",
    "t =('python')\n",
    "k = ['sid',t,l,5.4]"
   ]
  },
  {
   "cell_type": "code",
   "execution_count": 4,
   "id": "4e5a901c-4d0a-496b-9df5-d373d61a61cd",
   "metadata": {},
   "outputs": [
    {
     "data": {
      "text/plain": [
       "list"
      ]
     },
     "execution_count": 4,
     "metadata": {},
     "output_type": "execute_result"
    }
   ],
   "source": [
    "#Q2\n",
    "list"
   ]
  },
  {
   "cell_type": "code",
   "execution_count": 5,
   "id": "75b600f4-9dd4-4661-975f-3fa3e90b7809",
   "metadata": {},
   "outputs": [],
   "source": [
    "#Q3\n",
    "a= 10/2\n",
    "b = 10%2\n",
    "c = 10//2\n",
    "d = 10**2"
   ]
  },
  {
   "cell_type": "code",
   "execution_count": 6,
   "id": "18c4d8db-4207-4b07-b671-0fb44511209a",
   "metadata": {},
   "outputs": [
    {
     "data": {
      "text/plain": [
       "5.0"
      ]
     },
     "execution_count": 6,
     "metadata": {},
     "output_type": "execute_result"
    }
   ],
   "source": [
    "a\n"
   ]
  },
  {
   "cell_type": "code",
   "execution_count": 7,
   "id": "366a7d05-bb2a-4912-a937-4b8ca1601489",
   "metadata": {},
   "outputs": [
    {
     "name": "stdout",
     "output_type": "stream",
     "text": [
      "1\n",
      "sks\n",
      "2\n",
      "8\n",
      "2\n",
      "4\n",
      "6\n",
      "5.5\n"
     ]
    }
   ],
   "source": [
    "#Q4\n",
    "list = [1,'sks',2,8,2,4,6,5.5]\n",
    "for i in list:\n",
    "    print(i)"
   ]
  },
  {
   "cell_type": "code",
   "execution_count": 12,
   "id": "80ad0698-4a9b-4b5f-a014-181a35a5a4f7",
   "metadata": {},
   "outputs": [
    {
     "ename": "SyntaxError",
     "evalue": "cannot assign to expression here. Maybe you meant '==' instead of '='? (771802918.py, line 5)",
     "output_type": "error",
     "traceback": [
      "\u001b[0;36m  Cell \u001b[0;32mIn[12], line 5\u001b[0;36m\u001b[0m\n\u001b[0;31m    if (a/2 = 0):\u001b[0m\n\u001b[0m        ^\u001b[0m\n\u001b[0;31mSyntaxError\u001b[0m\u001b[0;31m:\u001b[0m cannot assign to expression here. Maybe you meant '==' instead of '='?\n"
     ]
    }
   ],
   "source": [
    "#Q5\n",
    "a= 64\n",
    "b=2\n",
    "count = 0\n",
    "if (a/2 == 0):\n",
    "   a= a%2 \n",
    "   count=count +1\n",
    "print(count)\n"
   ]
  },
  {
   "cell_type": "code",
   "execution_count": null,
   "id": "83ef6d43-b085-462e-96b8-ce34490f9ed6",
   "metadata": {},
   "outputs": [],
   "source": []
  }
 ],
 "metadata": {
  "kernelspec": {
   "display_name": "Python 3 (ipykernel)",
   "language": "python",
   "name": "python3"
  },
  "language_info": {
   "codemirror_mode": {
    "name": "ipython",
    "version": 3
   },
   "file_extension": ".py",
   "mimetype": "text/x-python",
   "name": "python",
   "nbconvert_exporter": "python",
   "pygments_lexer": "ipython3",
   "version": "3.10.8"
  }
 },
 "nbformat": 4,
 "nbformat_minor": 5
}
