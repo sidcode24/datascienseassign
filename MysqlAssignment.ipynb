{
 "cells": [
  {
   "cell_type": "code",
   "execution_count": null,
   "id": "b76fe0c8-8611-4dcd-a958-7a19d4f2302f",
   "metadata": {},
   "outputs": [],
   "source": [
    "#SQL (Relational Databases)\tNoSQL (Non-relational Databases)\n",
    "Data Model\tFollows a structured data model using tables and schemas.\tOffers flexibility, using various data models like document-oriented, key-value, columnar, or graph-based.\n",
    "Schema\tTypically requires a predefined schema for data organization.\tOften schema-less, allowing flexibility to add or change data structure on-the-fly.\n",
    "Query Language\tUses Structured Query Language (SQL) for querying data.\tVarious query languages specific to different NoSQL databases. Some support SQL-like querying, others use custom APIs.\n",
    "Scalability\tVertical scaling (scaling up by adding more resources) is common.\tHorizontal scaling (scaling out by adding more nodes) is more prevalent, allowing distributed databases.\n",
    "Consistency\tEmphasizes ACID (Atomicity, Consistency, Isolation, Durability) properties, ensuring data integrity and consistency.\tOffers flexibility in consistency models, with some databases favoring eventual consistency.\n",
    "Relationships\tRelational databases use tables with predefined relationships between them (foreign keys, joins).\tNoSQL databases often handle relationships differently, sometimes using denormalization, embedding, or references.\n",
    "Examples\tMySQL, PostgreSQL, Oracle, SQL Server, SQLite, etc.\tMongoDB, Cassandra, Redis, Couchbase, DynamoDB, Neo4j, etc.\n",
    "Use Cases\tSuitable for structured data, transactions, and applications with complex relationships.\tIdeal for unstructured or semi-structured data, real-time applications, scalability, and rapid development."
   ]
  },
  {
   "cell_type": "markdown",
   "id": "06e25249-5435-4869-9cb9-1cf8a21205f5",
   "metadata": {},
   "source": [
    "#DDL stands for Data Definition Language, which is a subset of SQL (Structured Query Language) used for defining and managing the structure of a database. DDL commands allow users to define, modify, and remove database objects such as tables, indexes, views, and schemas.\n",
    "CREATE TABLE employees (\n",
    "    emp_id INT PRIMARY KEY,\n",
    "    emp_name VARCHAR(50),\n",
    "    emp_dept VARCHAR(50)\n",
    ");\n",
    "DROP TABLE employees;\n",
    "\n",
    "ALTER TABLE employees\n",
    "ADD COLUMN emp_salary DECIMAL(10,2);\n",
    "\n",
    "TRUNCATE TABLE employees;\n"
   ]
  },
  {
   "cell_type": "markdown",
   "id": "742d41df-41d0-4d8c-aa4b-ac729758fc77",
   "metadata": {},
   "source": [
    "DML stands for Data Manipulation Language, which is a subset of SQL (Structured Query Language) used for manipulating data stored in a database. DML commands are responsible for performing operations on the data within database objects like tables.\n",
    "\n",
    "INSERT INTO employees (emp_id, emp_name, emp_dept)\n",
    "VALUES (1, 'John Doe', 'IT');\n",
    "\n",
    "UPDATE employees\n",
    "SET emp_dept = 'Sales'\n",
    "WHERE emp_id = 1;\n",
    "\n",
    "DELETE FROM employees\n",
    "WHERE emp_id = 1;\n",
    "\n"
   ]
  },
  {
   "cell_type": "markdown",
   "id": "8e90f7bc-4d1e-424c-864c-b1d51daaf3fb",
   "metadata": {},
   "source": [
    "DQL stands for Data Query Language, which is a subset of SQL (Structured Query Language) used for querying or retrieving data from a database. DQL commands primarily involve the SELECT statement, allowing users to retrieve specific information or data subsets from tables.\n",
    "\n",
    "SELECT * FROM employees;\n",
    "SELECT emp_name, emp_dept FROM employees WHERE emp_dept = 'IT';\n"
   ]
  },
  {
   "cell_type": "raw",
   "id": "dd41976a-6232-47dc-820c-2b9bacd99e3c",
   "metadata": {},
   "source": [
    "Primary Key:\n",
    "\n",
    "A Primary Key is a column or a set of columns in a table that uniquely identifies each row or record in that table.\n",
    "It must have unique values for each row, and it cannot contain NULL values.\n",
    "A table can have only one Primary Key.\n",
    "Primary Keys are typically used as unique identifiers and serve as the basis for relationships with other tables (Foreign Keys).\n",
    "\n",
    "Foreign Key:\n",
    "\n",
    "A Foreign Key is a column or a set of columns in a table that establishes a link between data in two tables.\n",
    "It refers to the Primary Key of another table, establishing a relationship between the two tables.\n",
    "It ensures referential integrity, meaning that values in the Foreign Key column must exist in the referenced table's Primary Key column or be NULL.\n",
    "A table can have multiple Foreign Keys."
   ]
  },
  {
   "cell_type": "code",
   "execution_count": null,
   "id": "49bfcfe5-bd8d-409f-a7eb-17bc8d999a1c",
   "metadata": {},
   "outputs": [],
   "source": []
  }
 ],
 "metadata": {
  "kernelspec": {
   "display_name": "Python 3 (ipykernel)",
   "language": "python",
   "name": "python3"
  },
  "language_info": {
   "codemirror_mode": {
    "name": "ipython",
    "version": 3
   },
   "file_extension": ".py",
   "mimetype": "text/x-python",
   "name": "python",
   "nbconvert_exporter": "python",
   "pygments_lexer": "ipython3",
   "version": "3.10.8"
  }
 },
 "nbformat": 4,
 "nbformat_minor": 5
}
